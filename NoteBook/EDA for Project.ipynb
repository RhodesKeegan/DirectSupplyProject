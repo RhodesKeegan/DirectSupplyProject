{
 "cells": [
  {
   "cell_type": "code",
   "execution_count": 1,
   "id": "30a30588",
   "metadata": {},
   "outputs": [],
   "source": [
    "from glob import glob\n",
    "\n",
    "import csv\n",
    "import numpy as np\n",
    "import pandas as pd\n",
    "import matplotlib.pyplot as plt\n",
    "import re\n",
    "\n",
    "from sklearn.feature_extraction.text import CountVectorizer\n",
    "from sklearn.decomposition import TruncatedSVD\n",
    "from sklearn.preprocessing import StandardScaler\n"
   ]
  },
  {
   "cell_type": "code",
   "execution_count": 2,
   "id": "8555b03b",
   "metadata": {},
   "outputs": [],
   "source": [
    "files = glob('./generic_search_data/*.csv')\n",
    "\n",
    "file_dict = {}\n",
    "\n",
    "dfs = []\n",
    "    \n",
    "for i in range(len(files)):\n",
    "    file = open(files[i], 'r', encoding='utf-8')\n",
    "    lines = file.readlines()[1:]\n",
    "    file_dict[i] = lines\n",
    "    dfs.append(pd.read_csv(files[i]))\n",
    "    \n"
   ]
  },
  {
   "cell_type": "markdown",
   "id": "cf363526",
   "metadata": {},
   "source": [
    "Choosing a random example from the data frames and seeing what it contains"
   ]
  },
  {
   "cell_type": "code",
   "execution_count": 3,
   "id": "2ba3dcbb",
   "metadata": {},
   "outputs": [
    {
     "data": {
      "text/html": [
       "<div>\n",
       "<style scoped>\n",
       "    .dataframe tbody tr th:only-of-type {\n",
       "        vertical-align: middle;\n",
       "    }\n",
       "\n",
       "    .dataframe tbody tr th {\n",
       "        vertical-align: top;\n",
       "    }\n",
       "\n",
       "    .dataframe thead th {\n",
       "        text-align: right;\n",
       "    }\n",
       "</style>\n",
       "<table border=\"1\" class=\"dataframe\">\n",
       "  <thead>\n",
       "    <tr style=\"text-align: right;\">\n",
       "      <th></th>\n",
       "      <th>Unnamed: 0</th>\n",
       "      <th>h3 filter</th>\n",
       "      <th>h2 filter</th>\n",
       "      <th>p filter</th>\n",
       "      <th>div filter</th>\n",
       "      <th>h1 filter</th>\n",
       "      <th>span filter</th>\n",
       "      <th>li filter</th>\n",
       "      <th>h3 coil</th>\n",
       "      <th>h2 coil</th>\n",
       "      <th>...</th>\n",
       "      <th>h1 repair</th>\n",
       "      <th>span repair</th>\n",
       "      <th>li repair</th>\n",
       "      <th>h3 maintenance</th>\n",
       "      <th>h2 maintenance</th>\n",
       "      <th>p maintenance</th>\n",
       "      <th>div maintenance</th>\n",
       "      <th>h1 maintenance</th>\n",
       "      <th>span maintenance</th>\n",
       "      <th>li maintenance</th>\n",
       "    </tr>\n",
       "  </thead>\n",
       "  <tbody>\n",
       "    <tr>\n",
       "      <th>0</th>\n",
       "      <td>0</td>\n",
       "      <td>NaN</td>\n",
       "      <td>NaN</td>\n",
       "      <td>Every PTAC manufacturer recommends a complete ...</td>\n",
       "      <td>NaN</td>\n",
       "      <td>NaN</td>\n",
       "      <td>NaN</td>\n",
       "      <td>NaN</td>\n",
       "      <td>NaN</td>\n",
       "      <td>NaN</td>\n",
       "      <td>...</td>\n",
       "      <td>NaN</td>\n",
       "      <td>NaN</td>\n",
       "      <td>NaN</td>\n",
       "      <td>NaN</td>\n",
       "      <td>NaN</td>\n",
       "      <td>PTACs are self contained and are installed thr...</td>\n",
       "      <td>NaN</td>\n",
       "      <td>NaN</td>\n",
       "      <td>Ductless Mini-Split Maintenance Guide</td>\n",
       "      <td>Ductless Mini-Split Maintenance Guide</td>\n",
       "    </tr>\n",
       "    <tr>\n",
       "      <th>1</th>\n",
       "      <td>1</td>\n",
       "      <td>NaN</td>\n",
       "      <td>NaN</td>\n",
       "      <td>NaN</td>\n",
       "      <td>NaN</td>\n",
       "      <td>NaN</td>\n",
       "      <td>NaN</td>\n",
       "      <td>NaN</td>\n",
       "      <td>NaN</td>\n",
       "      <td>NaN</td>\n",
       "      <td>...</td>\n",
       "      <td>NaN</td>\n",
       "      <td>NaN</td>\n",
       "      <td>NaN</td>\n",
       "      <td>NaN</td>\n",
       "      <td>NaN</td>\n",
       "      <td>PTAC Maintenance</td>\n",
       "      <td>NaN</td>\n",
       "      <td>NaN</td>\n",
       "      <td>NaN</td>\n",
       "      <td>NaN</td>\n",
       "    </tr>\n",
       "    <tr>\n",
       "      <th>2</th>\n",
       "      <td>2</td>\n",
       "      <td>NaN</td>\n",
       "      <td>NaN</td>\n",
       "      <td>NaN</td>\n",
       "      <td>NaN</td>\n",
       "      <td>NaN</td>\n",
       "      <td>NaN</td>\n",
       "      <td>NaN</td>\n",
       "      <td>NaN</td>\n",
       "      <td>NaN</td>\n",
       "      <td>...</td>\n",
       "      <td>NaN</td>\n",
       "      <td>NaN</td>\n",
       "      <td>NaN</td>\n",
       "      <td>NaN</td>\n",
       "      <td>NaN</td>\n",
       "      <td>NaN</td>\n",
       "      <td>NaN</td>\n",
       "      <td>NaN</td>\n",
       "      <td>NaN</td>\n",
       "      <td>NaN</td>\n",
       "    </tr>\n",
       "    <tr>\n",
       "      <th>3</th>\n",
       "      <td>3</td>\n",
       "      <td>NaN</td>\n",
       "      <td>NaN</td>\n",
       "      <td>NaN</td>\n",
       "      <td>NaN</td>\n",
       "      <td>NaN</td>\n",
       "      <td>NaN</td>\n",
       "      <td>NaN</td>\n",
       "      <td>NaN</td>\n",
       "      <td>NaN</td>\n",
       "      <td>...</td>\n",
       "      <td>NaN</td>\n",
       "      <td>NaN</td>\n",
       "      <td>NaN</td>\n",
       "      <td>NaN</td>\n",
       "      <td>NaN</td>\n",
       "      <td>NaN</td>\n",
       "      <td>NaN</td>\n",
       "      <td>NaN</td>\n",
       "      <td>NaN</td>\n",
       "      <td>NaN</td>\n",
       "    </tr>\n",
       "    <tr>\n",
       "      <th>4</th>\n",
       "      <td>4</td>\n",
       "      <td>NaN</td>\n",
       "      <td>NaN</td>\n",
       "      <td>NaN</td>\n",
       "      <td>NaN</td>\n",
       "      <td>NaN</td>\n",
       "      <td>NaN</td>\n",
       "      <td>NaN</td>\n",
       "      <td>NaN</td>\n",
       "      <td>NaN</td>\n",
       "      <td>...</td>\n",
       "      <td>NaN</td>\n",
       "      <td>NaN</td>\n",
       "      <td>NaN</td>\n",
       "      <td>NaN</td>\n",
       "      <td>NaN</td>\n",
       "      <td>NaN</td>\n",
       "      <td>NaN</td>\n",
       "      <td>NaN</td>\n",
       "      <td>NaN</td>\n",
       "      <td>NaN</td>\n",
       "    </tr>\n",
       "  </tbody>\n",
       "</table>\n",
       "<p>5 rows × 36 columns</p>\n",
       "</div>"
      ],
      "text/plain": [
       "   Unnamed: 0  h3 filter  h2 filter  \\\n",
       "0           0        NaN        NaN   \n",
       "1           1        NaN        NaN   \n",
       "2           2        NaN        NaN   \n",
       "3           3        NaN        NaN   \n",
       "4           4        NaN        NaN   \n",
       "\n",
       "                                            p filter  div filter  h1 filter  \\\n",
       "0  Every PTAC manufacturer recommends a complete ...         NaN        NaN   \n",
       "1                                                NaN         NaN        NaN   \n",
       "2                                                NaN         NaN        NaN   \n",
       "3                                                NaN         NaN        NaN   \n",
       "4                                                NaN         NaN        NaN   \n",
       "\n",
       "   span filter  li filter  h3 coil  h2 coil  ... h1 repair  span repair  \\\n",
       "0          NaN        NaN      NaN      NaN  ...       NaN          NaN   \n",
       "1          NaN        NaN      NaN      NaN  ...       NaN          NaN   \n",
       "2          NaN        NaN      NaN      NaN  ...       NaN          NaN   \n",
       "3          NaN        NaN      NaN      NaN  ...       NaN          NaN   \n",
       "4          NaN        NaN      NaN      NaN  ...       NaN          NaN   \n",
       "\n",
       "   li repair h3 maintenance h2 maintenance  \\\n",
       "0        NaN            NaN            NaN   \n",
       "1        NaN            NaN            NaN   \n",
       "2        NaN            NaN            NaN   \n",
       "3        NaN            NaN            NaN   \n",
       "4        NaN            NaN            NaN   \n",
       "\n",
       "                                       p maintenance  div maintenance  \\\n",
       "0  PTACs are self contained and are installed thr...              NaN   \n",
       "1                                   PTAC Maintenance              NaN   \n",
       "2                                                NaN              NaN   \n",
       "3                                                NaN              NaN   \n",
       "4                                                NaN              NaN   \n",
       "\n",
       "  h1 maintenance                       span maintenance  \\\n",
       "0            NaN  Ductless Mini-Split Maintenance Guide   \n",
       "1            NaN                                    NaN   \n",
       "2            NaN                                    NaN   \n",
       "3            NaN                                    NaN   \n",
       "4            NaN                                    NaN   \n",
       "\n",
       "                          li maintenance  \n",
       "0  Ductless Mini-Split Maintenance Guide  \n",
       "1                                    NaN  \n",
       "2                                    NaN  \n",
       "3                                    NaN  \n",
       "4                                    NaN  \n",
       "\n",
       "[5 rows x 36 columns]"
      ]
     },
     "execution_count": 3,
     "metadata": {},
     "output_type": "execute_result"
    }
   ],
   "source": [
    "dfs[3].head()"
   ]
  },
  {
   "cell_type": "code",
   "execution_count": 4,
   "id": "9f6a1176",
   "metadata": {},
   "outputs": [],
   "source": [
    "removed_entries = []\n",
    "for entry in file_dict:\n",
    "    if not file_dict[entry]:\n",
    "        removed_entries.append(entry)\n",
    "        \n",
    "for element in removed_entries:\n",
    "    file_dict.pop(element)"
   ]
  },
  {
   "cell_type": "code",
   "execution_count": 5,
   "id": "4f16d1ca",
   "metadata": {},
   "outputs": [],
   "source": [
    "# array where each entry is the entire text for each link\n",
    "raw_text = []\n",
    "\n",
    "for entry in file_dict:\n",
    "    string = ' '.join([str(item) for item in file_dict[entry]])\n",
    "    raw_text.append(string)"
   ]
  },
  {
   "cell_type": "code",
   "execution_count": 6,
   "id": "9d914fbd",
   "metadata": {},
   "outputs": [],
   "source": [
    "def clean(text):\n",
    "    text = re.sub(r\"[^a-zA-Z]+\", ' ', text)\n",
    "    text = text.lower()\n",
    "    return text\n",
    "\n",
    "\n",
    "cleaned_text = list(map(lambda x: clean(x), raw_text))\n",
    "\n"
   ]
  },
  {
   "cell_type": "code",
   "execution_count": 7,
   "id": "03fbacbe",
   "metadata": {},
   "outputs": [
    {
     "name": "stdout",
     "output_type": "stream",
     "text": [
      " dave diy cleaning the filter on your ptac heating cooling unit \n",
      " what exactly is a packaged unit and how is it different from the standard central ac heat pump often found in homes the conventional system is known as a split system because it uses separate indoor and outdoor cabinets the outdoor cabinet contains the compressor exhaust fan and refrigerant coil and the indoor cabinet houses the blower refrigerant coil and connection to the ductwork with a packaged unit everything is contained inside a single cabinet located outside which connects to the building s ventilation system with return and supply ducts all heat release and absorption occurs in this one unit and the conditioned air goes into the supply ducts of the home what exactly is a packaged unit and how is it different from the standard central ac heat pump often found in homes the conventional system is known as a split system because it uses separate indoor and outdoor cabinets the outdoor cabinet contains the compressor exhaust fan and refrigerant coil and the indoor cabinet houses the blower refrigerant coil and connection to the ductwork with a packaged unit everything is contained inside a single cabinet located outside which connects to the building s ventilation system with return and supply ducts all heat release and absorption occurs in this one unit and the conditioned air goes into the supply ducts of the home ac repair as with any powerful air conditioner or heat pump a packaged hvac system must have installation and other services from licensed and certified technicians this isn t a job for amateurs or a time for diy experiments instead pick up the phone and contact douglas cooling heating in birmingham we provide comprehensive services from new installation to routine maintenance for packaged hvac units duct repair and replacement \n"
     ]
    }
   ],
   "source": [
    "print(cleaned_text[36])\n",
    "print(cleaned_text[12])"
   ]
  },
  {
   "cell_type": "markdown",
   "id": "205cea8e",
   "metadata": {},
   "source": [
    "Making the vectorizer"
   ]
  },
  {
   "cell_type": "code",
   "execution_count": 8,
   "id": "b3a20d27",
   "metadata": {},
   "outputs": [],
   "source": [
    "vectorizer = CountVectorizer(binary=True)\n",
    "\n",
    "features = vectorizer.fit_transform(cleaned_text)"
   ]
  },
  {
   "cell_type": "markdown",
   "id": "3806ddc0",
   "metadata": {},
   "source": [
    "Scaling the data, have to turn off with_mean because we are working with a very sparse matrix"
   ]
  },
  {
   "cell_type": "code",
   "execution_count": 9,
   "id": "389a23c1",
   "metadata": {},
   "outputs": [],
   "source": [
    "scaler = StandardScaler(with_mean=False)\n",
    "scaled_data = scaler.fit_transform(features)"
   ]
  },
  {
   "cell_type": "code",
   "execution_count": 10,
   "id": "a1dd9967",
   "metadata": {},
   "outputs": [],
   "source": [
    "svd = TruncatedSVD(n_components=5)\n",
    "decomp = svd.fit_transform(scaled_data)"
   ]
  },
  {
   "cell_type": "markdown",
   "id": "b91b1409",
   "metadata": {},
   "source": [
    "Looks like the first and third components yield the highest amount of variance"
   ]
  },
  {
   "cell_type": "code",
   "execution_count": 11,
   "id": "fe9b3b72",
   "metadata": {},
   "outputs": [
    {
     "data": {
      "text/plain": [
       "<matplotlib.collections.PathCollection at 0x1b27e131730>"
      ]
     },
     "execution_count": 11,
     "metadata": {},
     "output_type": "execute_result"
    },
    {
     "data": {
      "image/png": "[encoded data removed]",
      "text/plain": [
       "<Figure size 432x288 with 1 Axes>"
      ]
     },
     "metadata": {
      "needs_background": "light"
     },
     "output_type": "display_data"
    }
   ],
   "source": [
    "plt.scatter([1, 2, 3, 4, 5], svd.explained_variance_ratio_)"
   ]
  },
  {
   "cell_type": "code",
   "execution_count": 12,
   "id": "ef2974bb",
   "metadata": {},
   "outputs": [
    {
     "data": {
      "image/png": "[encoded data removed]",
      "text/plain": [
       "<Figure size 432x288 with 1 Axes>"
      ]
     },
     "metadata": {
      "needs_background": "light"
     },
     "output_type": "display_data"
    }
   ],
   "source": [
    "plt.scatter(decomp[:10,0], decomp[:10,1], color='blue', label='First 10 links')\n",
    "plt.scatter(decomp[10:,0], decomp[10:,1], color='red', label='Remaining links')\n",
    "plt.legend()\n",
    "plt.xlabel('comp 1')\n",
    "plt.ylabel('comp 2');"
   ]
  },
  {
   "cell_type": "code",
   "execution_count": 13,
   "id": "b76406b7",
   "metadata": {},
   "outputs": [
    {
     "name": "stdout",
     "output_type": "stream",
     "text": [
      "[10, 12, 22, 36]\n"
     ]
    }
   ],
   "source": [
    "temp = decomp[10:,0]\n",
    "indexes = []\n",
    "for i in range(len(temp)):\n",
    "    if temp[i] > 25:\n",
    "        indexes.append(i)\n",
    "\n",
    "\n",
    "print(indexes)\n",
    "new_decomp_x = np.delete(decomp[10:,0], indexes)\n",
    "new_decomp_y = np.delete(decomp[10:,1], indexes)"
   ]
  },
  {
   "cell_type": "code",
   "execution_count": 14,
   "id": "bdfa1e1b",
   "metadata": {},
   "outputs": [
    {
     "data": {
      "image/png": "[encoded data removed]",
      "text/plain": [
       "<Figure size 432x288 with 1 Axes>"
      ]
     },
     "metadata": {
      "needs_background": "light"
     },
     "output_type": "display_data"
    }
   ],
   "source": [
    "plt.scatter(decomp[:10,0], decomp[:10,1], color='blue', label='First 10 links')\n",
    "plt.scatter(new_decomp_x, new_decomp_y, color='red', label='Remaining links')\n",
    "plt.legend()\n",
    "plt.xlabel('comp 1')\n",
    "plt.ylabel('comp 2');"
   ]
  },
  {
   "cell_type": "code",
   "execution_count": 15,
   "id": "7b2f3495",
   "metadata": {},
   "outputs": [],
   "source": [
    "cleaned_text.pop(10);\n"
   ]
  },
  {
   "cell_type": "code",
   "execution_count": 16,
   "id": "d0a95185",
   "metadata": {},
   "outputs": [],
   "source": [
    "cleaned_text.pop(11)\n",
    "cleaned_text.pop(34);"
   ]
  },
  {
   "cell_type": "code",
   "execution_count": 17,
   "id": "8762c3a9",
   "metadata": {},
   "outputs": [],
   "source": [
    "link = 'https://www.youtube.com/watch?v=dQw4w9WgXcQ'\n",
    "data = []\n",
    "for entry in cleaned_text:\n",
    "    data.append((entry, link))\n",
    "    \n"
   ]
  },
  {
   "cell_type": "code",
   "execution_count": 19,
   "id": "981204f8",
   "metadata": {},
   "outputs": [
    {
     "ename": "NameError",
     "evalue": "name 'json' is not defined",
     "output_type": "error",
     "traceback": [
      "\u001b[1;31m---------------------------------------------------------------------------\u001b[0m",
      "\u001b[1;31mNameError\u001b[0m                                 Traceback (most recent call last)",
      "\u001b[1;32m<ipython-input-19-5539c4ed473d>\u001b[0m in \u001b[0;36m<module>\u001b[1;34m\u001b[0m\n\u001b[0;32m     14\u001b[0m \u001b[1;32mwith\u001b[0m \u001b[0mopen\u001b[0m\u001b[1;33m(\u001b[0m\u001b[0mjsonl_fp\u001b[0m\u001b[1;33m,\u001b[0m \u001b[1;34m'w'\u001b[0m\u001b[1;33m)\u001b[0m \u001b[1;32mas\u001b[0m \u001b[0mfp\u001b[0m\u001b[1;33m:\u001b[0m\u001b[1;33m\u001b[0m\u001b[1;33m\u001b[0m\u001b[0m\n\u001b[0;32m     15\u001b[0m     \u001b[1;32mfor\u001b[0m \u001b[0mqa\u001b[0m \u001b[1;32min\u001b[0m \u001b[0mqa_dict\u001b[0m\u001b[1;33m:\u001b[0m\u001b[1;33m\u001b[0m\u001b[1;33m\u001b[0m\u001b[0m\n\u001b[1;32m---> 16\u001b[1;33m         \u001b[0mjson\u001b[0m\u001b[1;33m.\u001b[0m\u001b[0mdump\u001b[0m\u001b[1;33m(\u001b[0m\u001b[0mqa\u001b[0m\u001b[1;33m,\u001b[0m \u001b[0mfp\u001b[0m\u001b[1;33m)\u001b[0m\u001b[1;33m\u001b[0m\u001b[1;33m\u001b[0m\u001b[0m\n\u001b[0m\u001b[0;32m     17\u001b[0m         \u001b[0mfp\u001b[0m\u001b[1;33m.\u001b[0m\u001b[0mwrite\u001b[0m\u001b[1;33m(\u001b[0m\u001b[1;34m'\\n'\u001b[0m\u001b[1;33m)\u001b[0m\u001b[1;33m\u001b[0m\u001b[1;33m\u001b[0m\u001b[0m\n",
      "\u001b[1;31mNameError\u001b[0m: name 'json' is not defined"
     ]
    }
   ],
   "source": [
    "# file path to write to\n",
    "jsonl_fp = \"./json_data/data.jsonl\"\n",
    "\n",
    "# question and answer pairs \n",
    "\n",
    "\n",
    "# the desired keys for the dictionary\n",
    "keys = ['data', 'metadata']\n",
    "\n",
    "# converting the list to a dictionary\n",
    "qa_dict = [dict(zip(keys, qa)) for qa in data]\n",
    "\n",
    "# dumps each entry of the dictionary and adds a new line\n",
    "with open(jsonl_fp, 'w') as fp:\n",
    "    for qa in qa_dict:\n",
    "        json.dump(qa, fp)\n",
    "        fp.write('\\n')"
   ]
  }
 ],
 "metadata": {
  "kernelspec": {
   "display_name": "Python 3",
   "language": "python",
   "name": "python3"
  },
  "language_info": {
   "codemirror_mode": {
    "name": "ipython",
    "version": 3
   },
   "file_extension": ".py",
   "mimetype": "text/x-python",
   "name": "python",
   "nbconvert_exporter": "python",
   "pygments_lexer": "ipython3",
   "version": "3.8.8"
  }
 },
 "nbformat": 4,
 "nbformat_minor": 5
}
