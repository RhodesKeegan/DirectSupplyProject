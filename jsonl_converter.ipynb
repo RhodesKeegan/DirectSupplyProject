{
 "cells": [
  {
   "cell_type": "code",
   "execution_count": 1,
   "metadata": {},
   "outputs": [],
   "source": [
    "import json"
   ]
  },
  {
   "cell_type": "code",
   "execution_count": 2,
   "metadata": {},
   "outputs": [],
   "source": [
    "# file path to write to\n",
    "jsonl_fp = \"data.jsonl\"\n",
    "\n",
    "# question and answer pairs \n",
    "qa_list = [('question one', 'answer one'), ('question two', 'answer two'), ('question three', 'answer three')]\n",
    "\n",
    "# the desired keys for the dictionary\n",
    "keys = ['prompt', 'completion']\n",
    "\n",
    "# converting the list to a dictionary\n",
    "qa_dict = [dict(zip(keys, qa)) for qa in qa_list]\n",
    "\n",
    "# dumps each entry of the dictionary and adds a new line\n",
    "with open(jsonl_fp, 'w') as fp:\n",
    "    for qa in qa_dict:\n",
    "        json.dump(qa, fp)\n",
    "        fp.write('\\n')"
   ]
  }
 ],
 "metadata": {
  "kernelspec": {
   "display_name": "Python 3",
   "language": "python",
   "name": "python3"
  },
  "language_info": {
   "codemirror_mode": {
    "name": "ipython",
    "version": 3
   },
   "file_extension": ".py",
   "mimetype": "text/x-python",
   "name": "python",
   "nbconvert_exporter": "python",
   "pygments_lexer": "ipython3",
   "version": "3.7.3"
  }
 },
 "nbformat": 4,
 "nbformat_minor": 2
}
